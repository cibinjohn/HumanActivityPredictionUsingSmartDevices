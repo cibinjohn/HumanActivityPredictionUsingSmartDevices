{
 "cells": [
  {
   "cell_type": "code",
   "execution_count": 1,
   "id": "51e1c569",
   "metadata": {},
   "outputs": [
    {
     "name": "stderr",
     "output_type": "stream",
     "text": [
      "/home/cibin/virtualenvs/cbd_env/lib/python3.10/site-packages/tqdm/auto.py:21: TqdmWarning: IProgress not found. Please update jupyter and ipywidgets. See https://ipywidgets.readthedocs.io/en/stable/user_install.html\n",
      "  from .autonotebook import tqdm as notebook_tqdm\n"
     ]
    }
   ],
   "source": [
    "import pandas as pd\n",
    "import numpy as np\n",
    "import seaborn as sns\n",
    "import matplotlib.pyplot as plt\n",
    "from sklearn.preprocessing import MinMaxScaler\n",
    "from sklearn.ensemble import RandomForestClassifier\n",
    "from sklearn.model_selection import train_test_split, GridSearchCV\n",
    "from sklearn.pipeline import Pipeline\n",
    "from sklearn.decomposition import PCA\n",
    "from sklearn.preprocessing import MinMaxScaler, StandardScaler\n",
    "from sklearn.discriminant_analysis import LinearDiscriminantAnalysis as LDA\n",
    "from sklearn.linear_model import LogisticRegression\n",
    "\n",
    "from sklearn.ensemble import RandomForestClassifier\n",
    "from sklearn.metrics import accuracy_score\n",
    "import pickle\n",
    "import shap"
   ]
  },
  {
   "cell_type": "code",
   "execution_count": 3,
   "id": "2e7c6d87",
   "metadata": {},
   "outputs": [
    {
     "data": {
      "text/html": [
       "<div>\n",
       "<style scoped>\n",
       "    .dataframe tbody tr th:only-of-type {\n",
       "        vertical-align: middle;\n",
       "    }\n",
       "\n",
       "    .dataframe tbody tr th {\n",
       "        vertical-align: top;\n",
       "    }\n",
       "\n",
       "    .dataframe thead th {\n",
       "        text-align: right;\n",
       "    }\n",
       "</style>\n",
       "<table border=\"1\" class=\"dataframe\">\n",
       "  <thead>\n",
       "    <tr style=\"text-align: right;\">\n",
       "      <th></th>\n",
       "      <th>timestamp</th>\n",
       "      <th>Phone_pressure</th>\n",
       "      <th>Phone_ACC_X</th>\n",
       "      <th>Phone_ACC_Y</th>\n",
       "      <th>Phone_ACC_Z</th>\n",
       "      <th>Phone_GRAVITY_X</th>\n",
       "      <th>Phone_GRAVITY_Y</th>\n",
       "      <th>Phone_GRAVITY_Z</th>\n",
       "      <th>Phone_GYRO_X</th>\n",
       "      <th>Phone_GYRO_Y</th>\n",
       "      <th>...</th>\n",
       "      <th>Phone_AUDIO_W</th>\n",
       "      <th>Phone_AUDIO_X</th>\n",
       "      <th>Phone_AUDIO_Y</th>\n",
       "      <th>Phone_AUDIO_Z</th>\n",
       "      <th>Phone_ROTATION_VECTOR_A</th>\n",
       "      <th>Phone_ROTATION_VECTOR_B</th>\n",
       "      <th>Phone_ROTATION_VECTOR_C</th>\n",
       "      <th>Phone_ROTATION_VECTOR_D</th>\n",
       "      <th>Phone_ROTATION_VECTOR_E</th>\n",
       "      <th>activity</th>\n",
       "    </tr>\n",
       "  </thead>\n",
       "  <tbody>\n",
       "    <tr>\n",
       "      <th>0</th>\n",
       "      <td>2017-06-29 09:57:00</td>\n",
       "      <td>963.3365</td>\n",
       "      <td>-0.512534</td>\n",
       "      <td>-9.417217</td>\n",
       "      <td>1.2502</td>\n",
       "      <td>2.269286</td>\n",
       "      <td>-9.402923</td>\n",
       "      <td>-1.61424</td>\n",
       "      <td>-0.000872</td>\n",
       "      <td>0.0035</td>\n",
       "      <td>...</td>\n",
       "      <td>8513.0</td>\n",
       "      <td>7546.2360</td>\n",
       "      <td>32767.0</td>\n",
       "      <td>45.0</td>\n",
       "      <td>-0.711522</td>\n",
       "      <td>0.431162</td>\n",
       "      <td>-0.417772</td>\n",
       "      <td>0.365106</td>\n",
       "      <td>0.523599</td>\n",
       "      <td>Eat</td>\n",
       "    </tr>\n",
       "    <tr>\n",
       "      <th>1</th>\n",
       "      <td>2017-06-29 09:57:03</td>\n",
       "      <td>963.3365</td>\n",
       "      <td>-0.512534</td>\n",
       "      <td>-9.417217</td>\n",
       "      <td>1.2502</td>\n",
       "      <td>2.269286</td>\n",
       "      <td>-9.402923</td>\n",
       "      <td>-1.61424</td>\n",
       "      <td>-0.000872</td>\n",
       "      <td>0.0035</td>\n",
       "      <td>...</td>\n",
       "      <td>13602.0</td>\n",
       "      <td>7547.2380</td>\n",
       "      <td>32767.0</td>\n",
       "      <td>45.0</td>\n",
       "      <td>-0.711522</td>\n",
       "      <td>0.431162</td>\n",
       "      <td>-0.417772</td>\n",
       "      <td>0.365106</td>\n",
       "      <td>0.523599</td>\n",
       "      <td>Eat</td>\n",
       "    </tr>\n",
       "    <tr>\n",
       "      <th>2</th>\n",
       "      <td>2017-06-29 09:57:08</td>\n",
       "      <td>963.3365</td>\n",
       "      <td>-0.512534</td>\n",
       "      <td>-9.417217</td>\n",
       "      <td>1.2502</td>\n",
       "      <td>2.269286</td>\n",
       "      <td>-9.402923</td>\n",
       "      <td>-1.61424</td>\n",
       "      <td>-0.000872</td>\n",
       "      <td>0.0035</td>\n",
       "      <td>...</td>\n",
       "      <td>5198.0</td>\n",
       "      <td>7548.5195</td>\n",
       "      <td>32767.0</td>\n",
       "      <td>45.0</td>\n",
       "      <td>-0.711522</td>\n",
       "      <td>0.431162</td>\n",
       "      <td>-0.417772</td>\n",
       "      <td>0.365106</td>\n",
       "      <td>0.523599</td>\n",
       "      <td>Eat</td>\n",
       "    </tr>\n",
       "    <tr>\n",
       "      <th>3</th>\n",
       "      <td>2017-06-29 09:57:09</td>\n",
       "      <td>963.3365</td>\n",
       "      <td>-0.512534</td>\n",
       "      <td>-9.417217</td>\n",
       "      <td>1.2502</td>\n",
       "      <td>2.269286</td>\n",
       "      <td>-9.402923</td>\n",
       "      <td>-1.61424</td>\n",
       "      <td>-0.000872</td>\n",
       "      <td>0.0035</td>\n",
       "      <td>...</td>\n",
       "      <td>4686.0</td>\n",
       "      <td>7548.1580</td>\n",
       "      <td>32767.0</td>\n",
       "      <td>45.0</td>\n",
       "      <td>-0.711522</td>\n",
       "      <td>0.431162</td>\n",
       "      <td>-0.417772</td>\n",
       "      <td>0.365106</td>\n",
       "      <td>0.523599</td>\n",
       "      <td>Eat</td>\n",
       "    </tr>\n",
       "    <tr>\n",
       "      <th>4</th>\n",
       "      <td>2017-06-29 09:57:10</td>\n",
       "      <td>963.2255</td>\n",
       "      <td>-0.512534</td>\n",
       "      <td>-9.417217</td>\n",
       "      <td>1.2502</td>\n",
       "      <td>2.269286</td>\n",
       "      <td>-9.402923</td>\n",
       "      <td>-1.61424</td>\n",
       "      <td>-0.000872</td>\n",
       "      <td>0.0035</td>\n",
       "      <td>...</td>\n",
       "      <td>5239.0</td>\n",
       "      <td>7547.8667</td>\n",
       "      <td>32767.0</td>\n",
       "      <td>45.0</td>\n",
       "      <td>-0.711522</td>\n",
       "      <td>0.431162</td>\n",
       "      <td>-0.417772</td>\n",
       "      <td>0.365106</td>\n",
       "      <td>0.523599</td>\n",
       "      <td>Eat</td>\n",
       "    </tr>\n",
       "  </tbody>\n",
       "</table>\n",
       "<p>5 rows × 30 columns</p>\n",
       "</div>"
      ],
      "text/plain": [
       "             timestamp  Phone_pressure  Phone_ACC_X  Phone_ACC_Y  Phone_ACC_Z  \\\n",
       "0  2017-06-29 09:57:00        963.3365    -0.512534    -9.417217       1.2502   \n",
       "1  2017-06-29 09:57:03        963.3365    -0.512534    -9.417217       1.2502   \n",
       "2  2017-06-29 09:57:08        963.3365    -0.512534    -9.417217       1.2502   \n",
       "3  2017-06-29 09:57:09        963.3365    -0.512534    -9.417217       1.2502   \n",
       "4  2017-06-29 09:57:10        963.2255    -0.512534    -9.417217       1.2502   \n",
       "\n",
       "   Phone_GRAVITY_X  Phone_GRAVITY_Y  Phone_GRAVITY_Z  Phone_GYRO_X  \\\n",
       "0         2.269286        -9.402923         -1.61424     -0.000872   \n",
       "1         2.269286        -9.402923         -1.61424     -0.000872   \n",
       "2         2.269286        -9.402923         -1.61424     -0.000872   \n",
       "3         2.269286        -9.402923         -1.61424     -0.000872   \n",
       "4         2.269286        -9.402923         -1.61424     -0.000872   \n",
       "\n",
       "   Phone_GYRO_Y  ...  Phone_AUDIO_W  Phone_AUDIO_X  Phone_AUDIO_Y  \\\n",
       "0        0.0035  ...         8513.0      7546.2360        32767.0   \n",
       "1        0.0035  ...        13602.0      7547.2380        32767.0   \n",
       "2        0.0035  ...         5198.0      7548.5195        32767.0   \n",
       "3        0.0035  ...         4686.0      7548.1580        32767.0   \n",
       "4        0.0035  ...         5239.0      7547.8667        32767.0   \n",
       "\n",
       "   Phone_AUDIO_Z  Phone_ROTATION_VECTOR_A  Phone_ROTATION_VECTOR_B  \\\n",
       "0           45.0                -0.711522                 0.431162   \n",
       "1           45.0                -0.711522                 0.431162   \n",
       "2           45.0                -0.711522                 0.431162   \n",
       "3           45.0                -0.711522                 0.431162   \n",
       "4           45.0                -0.711522                 0.431162   \n",
       "\n",
       "   Phone_ROTATION_VECTOR_C  Phone_ROTATION_VECTOR_D  Phone_ROTATION_VECTOR_E  \\\n",
       "0                -0.417772                 0.365106                 0.523599   \n",
       "1                -0.417772                 0.365106                 0.523599   \n",
       "2                -0.417772                 0.365106                 0.523599   \n",
       "3                -0.417772                 0.365106                 0.523599   \n",
       "4                -0.417772                 0.365106                 0.523599   \n",
       "\n",
       "   activity  \n",
       "0       Eat  \n",
       "1       Eat  \n",
       "2       Eat  \n",
       "3       Eat  \n",
       "4       Eat  \n",
       "\n",
       "[5 rows x 30 columns]"
      ]
     },
     "execution_count": 3,
     "metadata": {},
     "output_type": "execute_result"
    }
   ],
   "source": [
    "data_df = pd.read_csv(\"data/P4_engineered_data.csv\")\n",
    "data_df.head()"
   ]
  },
  {
   "cell_type": "code",
   "execution_count": 4,
   "id": "47e1cb75",
   "metadata": {},
   "outputs": [
    {
     "data": {
      "text/plain": [
       "Index(['timestamp', 'Phone_pressure', 'Phone_ACC_X', 'Phone_ACC_Y',\n",
       "       'Phone_ACC_Z', 'Phone_GRAVITY_X', 'Phone_GRAVITY_Y', 'Phone_GRAVITY_Z',\n",
       "       'Phone_GYRO_X', 'Phone_GYRO_Y', 'Phone_GYRO_Z', 'Phone_LA_X',\n",
       "       'Phone_LA_Y', 'Phone_LA_Z', 'Phone_MAG_X', 'Phone_MAG_Y', 'Phone_MAG_Z',\n",
       "       'Phone_ORI_X', 'Phone_ORI_Y', 'Phone_ORI_Z', 'Phone_AUDIO_W',\n",
       "       'Phone_AUDIO_X', 'Phone_AUDIO_Y', 'Phone_AUDIO_Z',\n",
       "       'Phone_ROTATION_VECTOR_A', 'Phone_ROTATION_VECTOR_B',\n",
       "       'Phone_ROTATION_VECTOR_C', 'Phone_ROTATION_VECTOR_D',\n",
       "       'Phone_ROTATION_VECTOR_E', 'activity'],\n",
       "      dtype='object')"
      ]
     },
     "execution_count": 4,
     "metadata": {},
     "output_type": "execute_result"
    }
   ],
   "source": [
    "data_df.columns"
   ]
  },
  {
   "cell_type": "code",
   "execution_count": 5,
   "id": "6af09619",
   "metadata": {},
   "outputs": [],
   "source": [
    "data_df.drop(columns=['timestamp'], inplace=True)"
   ]
  },
  {
   "cell_type": "code",
   "execution_count": 11,
   "id": "4255fb60",
   "metadata": {},
   "outputs": [
    {
     "data": {
      "text/plain": [
       "{0: 0,\n",
       " 1: 1,\n",
       " 2: 2,\n",
       " 3: 3,\n",
       " 4: 4,\n",
       " 5: 5,\n",
       " 6: 6,\n",
       " 7: 7,\n",
       " 8: 8,\n",
       " 9: 9,\n",
       " 10: 10,\n",
       " 11: 11,\n",
       " 12: 12,\n",
       " 13: 13,\n",
       " 14: 14,\n",
       " 15: 15,\n",
       " 16: 16,\n",
       " 17: 17,\n",
       " 18: 18,\n",
       " 19: 19,\n",
       " 20: 20,\n",
       " 21: 21,\n",
       " 22: 22,\n",
       " 23: 23,\n",
       " 24: 24,\n",
       " 25: 25}"
      ]
     },
     "execution_count": 11,
     "metadata": {},
     "output_type": "execute_result"
    }
   ],
   "source": [
    "label_dict = {activity: i for i, activity in enumerate(data_df.activity.value_counts().index.tolist())}\n",
    "label_dict"
   ]
  },
  {
   "cell_type": "code",
   "execution_count": 12,
   "id": "189672ac",
   "metadata": {},
   "outputs": [],
   "source": [
    "data_df.activity = data_df.activity.map(lambda x: label_dict[x])"
   ]
  },
  {
   "cell_type": "code",
   "execution_count": 13,
   "id": "1fa20aff",
   "metadata": {},
   "outputs": [],
   "source": [
    "def run_train_test_split(df, label_name, test_ratio=0.3):\n",
    "    X = df.drop([label_name], axis=1)\n",
    "    y = df[label_name]\n",
    "\n",
    "    X_train_df, X_test_df, y_train_df, y_test_df = train_test_split(X, y, test_size=test_ratio, random_state=42)\n",
    "\n",
    "    # Print the shapes of the training and testing sets\n",
    "    print('Training set shape:', X_train_df.shape, y_train_df.shape)\n",
    "    print('Testing set shape:', X_test_df.shape, y_test_df.shape)\n",
    "\n",
    "    return X_train_df, X_test_df, y_train_df, y_test_df"
   ]
  },
  {
   "cell_type": "markdown",
   "id": "b876a59e",
   "metadata": {},
   "source": [
    "# Train test split"
   ]
  },
  {
   "cell_type": "code",
   "execution_count": 14,
   "id": "bafab0a5",
   "metadata": {},
   "outputs": [
    {
     "name": "stdout",
     "output_type": "stream",
     "text": [
      "Training set shape: (230696, 28) (230696,)\n",
      "Testing set shape: (57675, 28) (57675,)\n"
     ]
    }
   ],
   "source": [
    "X_train_df, X_test_df, y_train_df, y_test_df = run_train_test_split(data_df, label_name='activity', test_ratio=0.2)"
   ]
  },
  {
   "cell_type": "code",
   "execution_count": 9,
   "id": "52529d38",
   "metadata": {},
   "outputs": [],
   "source": [
    "def train_test(classifier, X, y):\n",
    "    X_train, X_test, y_train, y_test = train_test_split(X, y, test_size=0.25, random_state=48)\n",
    "    classifier.fit(X_train, y_train)\n",
    "    \n",
    "    train_accuracy = classifier.score(X_train, y_train)\n",
    "    test_accuracy = classifier.score(X_test, y_test)\n",
    "    \n",
    "    print(\"Train accuracy: {}, Test accuracy: {}\".format(train_accuracy, test_accuracy))\n",
    "    \n",
    "    performance_metrics = {\n",
    "        'train_accuracy':train_accuracy,\n",
    "        'test_accuracy':test_accuracy\n",
    "    }\n",
    "    return performance_metrics, classifier"
   ]
  },
  {
   "cell_type": "code",
   "execution_count": 10,
   "id": "907f9700",
   "metadata": {},
   "outputs": [],
   "source": [
    "X = data_df.drop(columns=['activity'])\n",
    "y = data_df['activity']"
   ]
  },
  {
   "cell_type": "code",
   "execution_count": 14,
   "id": "b10afec1",
   "metadata": {},
   "outputs": [],
   "source": [
    "models_info_dict_list = []"
   ]
  },
  {
   "cell_type": "code",
   "execution_count": 15,
   "id": "9d63757a",
   "metadata": {},
   "outputs": [],
   "source": [
    "# Trial 1- logistic regression"
   ]
  },
  {
   "cell_type": "code",
   "execution_count": 16,
   "id": "396bd1c0",
   "metadata": {},
   "outputs": [
    {
     "name": "stderr",
     "output_type": "stream",
     "text": [
      "/home/cibin/virtualenvs/cbd_env/lib/python3.10/site-packages/sklearn/linear_model/_logistic.py:458: ConvergenceWarning: lbfgs failed to converge (status=1):\n",
      "STOP: TOTAL NO. of ITERATIONS REACHED LIMIT.\n",
      "\n",
      "Increase the number of iterations (max_iter) or scale the data as shown in:\n",
      "    https://scikit-learn.org/stable/modules/preprocessing.html\n",
      "Please also refer to the documentation for alternative solver options:\n",
      "    https://scikit-learn.org/stable/modules/linear_model.html#logistic-regression\n",
      "  n_iter_i = _check_optimize_result(\n"
     ]
    },
    {
     "name": "stdout",
     "output_type": "stream",
     "text": [
      "Train accuracy: 0.32957582370837535, Test accuracy: 0.330156880695768\n"
     ]
    }
   ],
   "source": [
    "# Define the pipeline with Logistic Regression\n",
    "trial1 = Pipeline([\n",
    "    (\"classifier\", LogisticRegression())\n",
    "])\n",
    "\n",
    "performance_metrics, clf1 = train_test(trial1, X, y)\n",
    "performance_metrics['model_id'] = 'trial1'\n",
    "models_info_dict_list.append(performance_metrics)"
   ]
  },
  {
   "cell_type": "code",
   "execution_count": 18,
   "id": "9c31f291",
   "metadata": {},
   "outputs": [],
   "source": [
    "# Trial 2- logistic regression + StandardScalar"
   ]
  },
  {
   "cell_type": "code",
   "execution_count": 17,
   "id": "9b39debe",
   "metadata": {},
   "outputs": [
    {
     "name": "stderr",
     "output_type": "stream",
     "text": [
      "/home/cibin/virtualenvs/cbd_env/lib/python3.10/site-packages/sklearn/linear_model/_logistic.py:458: ConvergenceWarning: lbfgs failed to converge (status=1):\n",
      "STOP: TOTAL NO. of ITERATIONS REACHED LIMIT.\n",
      "\n",
      "Increase the number of iterations (max_iter) or scale the data as shown in:\n",
      "    https://scikit-learn.org/stable/modules/preprocessing.html\n",
      "Please also refer to the documentation for alternative solver options:\n",
      "    https://scikit-learn.org/stable/modules/linear_model.html#logistic-regression\n",
      "  n_iter_i = _check_optimize_result(\n"
     ]
    },
    {
     "name": "stdout",
     "output_type": "stream",
     "text": [
      "Train accuracy: 0.4856434773763397, Test accuracy: 0.48276531702107\n"
     ]
    }
   ],
   "source": [
    "# Define the pipeline with Logistic Regression and StandardScaler\n",
    "trial2 = Pipeline([\n",
    "    (\"scaler\", StandardScaler()),       # Add StandardScaler for normalization\n",
    "    (\"classifier\", LogisticRegression())\n",
    "])\n",
    "\n",
    "performance_metrics, cl2 = train_test(trial2, X, y)\n",
    "performance_metrics['model_id'] = 'trial2'\n",
    "models_info_dict_list.append(performance_metrics)"
   ]
  },
  {
   "cell_type": "code",
   "execution_count": null,
   "id": "0c1f7f4f",
   "metadata": {},
   "outputs": [],
   "source": [
    "# Trial 3 logistic regression + PCA + Standard Scaler "
   ]
  },
  {
   "cell_type": "code",
   "execution_count": 18,
   "id": "25dc85f6",
   "metadata": {},
   "outputs": [
    {
     "name": "stderr",
     "output_type": "stream",
     "text": [
      "/home/cibin/virtualenvs/cbd_env/lib/python3.10/site-packages/sklearn/linear_model/_logistic.py:458: ConvergenceWarning: lbfgs failed to converge (status=1):\n",
      "STOP: TOTAL NO. of ITERATIONS REACHED LIMIT.\n",
      "\n",
      "Increase the number of iterations (max_iter) or scale the data as shown in:\n",
      "    https://scikit-learn.org/stable/modules/preprocessing.html\n",
      "Please also refer to the documentation for alternative solver options:\n",
      "    https://scikit-learn.org/stable/modules/linear_model.html#logistic-regression\n",
      "  n_iter_i = _check_optimize_result(\n"
     ]
    },
    {
     "name": "stdout",
     "output_type": "stream",
     "text": [
      "Train accuracy: 0.44161218431833105, Test accuracy: 0.4398901419000458\n"
     ]
    }
   ],
   "source": [
    "# Define the pipeline with Logistic Regression and StandardScaler\n",
    "trial3 = Pipeline([\n",
    "    (\"scaler\", StandardScaler()),       # Add StandardScaler for normalization\n",
    "    (\"pca\", PCA(n_components=0.95)),  # Add PCA with 95% explained variance\n",
    "    (\"classifier\", LogisticRegression())\n",
    "])\n",
    "\n",
    "performance_metrics, clf3 = train_test(trial3, X, y)\n",
    "performance_metrics['model_id'] = 'trial3'\n",
    "models_info_dict_list.append(performance_metrics)"
   ]
  },
  {
   "cell_type": "code",
   "execution_count": null,
   "id": "a4073b0e",
   "metadata": {},
   "outputs": [],
   "source": [
    "# Trial 4- Random Forest with default configuration"
   ]
  },
  {
   "cell_type": "code",
   "execution_count": 19,
   "id": "5f846145",
   "metadata": {},
   "outputs": [
    {
     "name": "stdout",
     "output_type": "stream",
     "text": [
      "Train accuracy: 0.9051775955020853, Test accuracy: 0.9034025494846933\n"
     ]
    }
   ],
   "source": [
    "trial4 = Pipeline([\n",
    "    (\"classifier\", RandomForestClassifier(random_state=0))\n",
    "])\n",
    "\n",
    "performance_metrics, clf4 = train_test(trial4, X, y)\n",
    "performance_metrics['model_id'] = 'trial4'\n",
    "models_info_dict_list.append(performance_metrics)"
   ]
  },
  {
   "cell_type": "code",
   "execution_count": 16,
   "id": "7f00fd43",
   "metadata": {},
   "outputs": [],
   "source": [
    "# Trial 5- PCA with 95 percent variance + Random Forest with default configuration"
   ]
  },
  {
   "cell_type": "code",
   "execution_count": 20,
   "id": "ddcc86d7",
   "metadata": {},
   "outputs": [
    {
     "name": "stdout",
     "output_type": "stream",
     "text": [
      "Train accuracy: 0.9051683481445177, Test accuracy: 0.5940937400302387\n"
     ]
    }
   ],
   "source": [
    "trial5 = Pipeline([\n",
    "    (\"pca\", PCA(n_components=0.95)),  # Add PCA with 95% explained variance\n",
    "    (\"classifier\", RandomForestClassifier(random_state=0))\n",
    "])\n",
    "\n",
    "performance_metrics, clf5 = train_test(trial5, X, y)\n",
    "performance_metrics['model_id'] = 'trial5'\n",
    "models_info_dict_list.append(performance_metrics)"
   ]
  },
  {
   "cell_type": "code",
   "execution_count": 23,
   "id": "f64c12d3",
   "metadata": {},
   "outputs": [],
   "source": [
    "# Trial 6- Standard Scalar + PCA with 95 percent variance + Random Forest with default configuration"
   ]
  },
  {
   "cell_type": "code",
   "execution_count": 21,
   "id": "368279ef",
   "metadata": {},
   "outputs": [
    {
     "name": "stdout",
     "output_type": "stream",
     "text": [
      "Train accuracy: 0.9051775955020853, Test accuracy: 0.8621086651963437\n"
     ]
    }
   ],
   "source": [
    "trial6 = Pipeline([\n",
    "    (\"scaler\", StandardScaler()),       # Add StandardScaler for normalization    \n",
    "    (\"pca\", PCA(n_components=0.95)),  # Add PCA with 95% explained variance\n",
    "    (\"classifier\", RandomForestClassifier(random_state=0))\n",
    "])\n",
    "\n",
    "performance_metrics, clf6 = train_test(trial6, X, y)\n",
    "performance_metrics['model_id'] = 'trial6'\n",
    "models_info_dict_list.append(performance_metrics)"
   ]
  },
  {
   "cell_type": "code",
   "execution_count": 22,
   "id": "313d6dcd",
   "metadata": {},
   "outputs": [
    {
     "data": {
      "text/html": [
       "<div>\n",
       "<style scoped>\n",
       "    .dataframe tbody tr th:only-of-type {\n",
       "        vertical-align: middle;\n",
       "    }\n",
       "\n",
       "    .dataframe tbody tr th {\n",
       "        vertical-align: top;\n",
       "    }\n",
       "\n",
       "    .dataframe thead th {\n",
       "        text-align: right;\n",
       "    }\n",
       "</style>\n",
       "<table border=\"1\" class=\"dataframe\">\n",
       "  <thead>\n",
       "    <tr style=\"text-align: right;\">\n",
       "      <th></th>\n",
       "      <th>train_accuracy</th>\n",
       "      <th>test_accuracy</th>\n",
       "      <th>model_id</th>\n",
       "    </tr>\n",
       "  </thead>\n",
       "  <tbody>\n",
       "    <tr>\n",
       "      <th>0</th>\n",
       "      <td>0.329576</td>\n",
       "      <td>0.330157</td>\n",
       "      <td>trial1</td>\n",
       "    </tr>\n",
       "    <tr>\n",
       "      <th>1</th>\n",
       "      <td>0.485643</td>\n",
       "      <td>0.482765</td>\n",
       "      <td>trial2</td>\n",
       "    </tr>\n",
       "    <tr>\n",
       "      <th>2</th>\n",
       "      <td>0.441612</td>\n",
       "      <td>0.439890</td>\n",
       "      <td>trial3</td>\n",
       "    </tr>\n",
       "    <tr>\n",
       "      <th>3</th>\n",
       "      <td>0.905178</td>\n",
       "      <td>0.903403</td>\n",
       "      <td>trial4</td>\n",
       "    </tr>\n",
       "    <tr>\n",
       "      <th>4</th>\n",
       "      <td>0.905168</td>\n",
       "      <td>0.594094</td>\n",
       "      <td>trial5</td>\n",
       "    </tr>\n",
       "    <tr>\n",
       "      <th>5</th>\n",
       "      <td>0.905178</td>\n",
       "      <td>0.862109</td>\n",
       "      <td>trial6</td>\n",
       "    </tr>\n",
       "  </tbody>\n",
       "</table>\n",
       "</div>"
      ],
      "text/plain": [
       "   train_accuracy  test_accuracy model_id\n",
       "0        0.329576       0.330157   trial1\n",
       "1        0.485643       0.482765   trial2\n",
       "2        0.441612       0.439890   trial3\n",
       "3        0.905178       0.903403   trial4\n",
       "4        0.905168       0.594094   trial5\n",
       "5        0.905178       0.862109   trial6"
      ]
     },
     "execution_count": 22,
     "metadata": {},
     "output_type": "execute_result"
    }
   ],
   "source": [
    "eval_df = pd.DataFrame(models_info_dict_list)\n",
    "eval_df"
   ]
  },
  {
   "cell_type": "code",
   "execution_count": null,
   "id": "756e9a58",
   "metadata": {},
   "outputs": [],
   "source": []
  },
  {
   "cell_type": "code",
   "execution_count": 23,
   "id": "0f327e97",
   "metadata": {},
   "outputs": [
    {
     "data": {
      "image/png": "[encoded data removed]",
      "text/plain": [
       "<Figure size 1000x600 with 1 Axes>"
      ]
     },
     "metadata": {},
     "output_type": "display_data"
    }
   ],
   "source": [
    "# Plotting\n",
    "plt.figure(figsize=(10, 6))\n",
    "plt.plot(eval_df['model_id'], eval_df['train_accuracy'], marker='o', label='Train Accuracy')\n",
    "plt.plot(eval_df['model_id'], eval_df['test_accuracy'], marker='o', label='Test Accuracy')\n",
    "plt.xlabel('Model')\n",
    "plt.ylabel('Accuracy')\n",
    "plt.title('Train and Test Accuracy for Each Trial')\n",
    "plt.legend()\n",
    "plt.xticks(rotation=45)\n",
    "plt.grid(True)\n",
    "plt.tight_layout()\n",
    "\n",
    "plt.show()"
   ]
  },
  {
   "cell_type": "markdown",
   "id": "3fbad4e7",
   "metadata": {},
   "source": [
    "Trial 4- Random Forest with default configuration has the best accuracy"
   ]
  },
  {
   "cell_type": "code",
   "execution_count": 25,
   "id": "734ae010",
   "metadata": {},
   "outputs": [],
   "source": [
    "# Saving the model locally"
   ]
  },
  {
   "cell_type": "code",
   "execution_count": 26,
   "id": "c528112d",
   "metadata": {},
   "outputs": [],
   "source": [
    "import pickle"
   ]
  },
  {
   "cell_type": "code",
   "execution_count": 29,
   "id": "23da5f20",
   "metadata": {},
   "outputs": [],
   "source": [
    "# save the model to disk\n",
    "filename = 'CHECKPOINTS/final_model.sav'\n",
    "pickle.dump(clf4, open(filename, 'wb'))"
   ]
  },
  {
   "cell_type": "code",
   "execution_count": 20,
   "id": "92abcb94",
   "metadata": {},
   "outputs": [],
   "source": [
    "clf = RandomForestClassifier(random_state=0)"
   ]
  },
  {
   "cell_type": "code",
   "execution_count": 31,
   "id": "5df7753a",
   "metadata": {},
   "outputs": [
    {
     "name": "stdout",
     "output_type": "stream",
     "text": [
      "{'At home': 0, 'In computer': 1, 'Walk': 2, 'Picnic ': 3, 'In bus': 4, 'Walking&party': 5, 'Video games/At home': 6, 'Pause': 7, 'In computer/Work': 8, 'Train': 9, 'In vehicle': 10, 'Sleep': 11, 'Eat': 12, 'Meeting': 13, 'Cooking': 14, 'In computer/At home': 15, 'Movie': 16, 'Shopping& wearing': 17, 'Work': 18, 'Video games': 19, 'Phone was out of the pocket (forgot)/At home': 20, 'Eat/At home': 21, 'Shop/Walk': 22, 'Shop': 23, 'Eat/Phone was out of the pocket (forgot)/At home': 24, 'On bus stop/Walk': 25}\n"
     ]
    }
   ],
   "source": [
    "print(label_dict)"
   ]
  },
  {
   "cell_type": "code",
   "execution_count": 23,
   "id": "e6c69259",
   "metadata": {},
   "outputs": [
    {
     "data": {
      "text/html": [
       "<style>#sk-container-id-2 {color: black;background-color: white;}#sk-container-id-2 pre{padding: 0;}#sk-container-id-2 div.sk-toggleable {background-color: white;}#sk-container-id-2 label.sk-toggleable__label {cursor: pointer;display: block;width: 100%;margin-bottom: 0;padding: 0.3em;box-sizing: border-box;text-align: center;}#sk-container-id-2 label.sk-toggleable__label-arrow:before {content: \"▸\";float: left;margin-right: 0.25em;color: #696969;}#sk-container-id-2 label.sk-toggleable__label-arrow:hover:before {color: black;}#sk-container-id-2 div.sk-estimator:hover label.sk-toggleable__label-arrow:before {color: black;}#sk-container-id-2 div.sk-toggleable__content {max-height: 0;max-width: 0;overflow: hidden;text-align: left;background-color: #f0f8ff;}#sk-container-id-2 div.sk-toggleable__content pre {margin: 0.2em;color: black;border-radius: 0.25em;background-color: #f0f8ff;}#sk-container-id-2 input.sk-toggleable__control:checked~div.sk-toggleable__content {max-height: 200px;max-width: 100%;overflow: auto;}#sk-container-id-2 input.sk-toggleable__control:checked~label.sk-toggleable__label-arrow:before {content: \"▾\";}#sk-container-id-2 div.sk-estimator input.sk-toggleable__control:checked~label.sk-toggleable__label {background-color: #d4ebff;}#sk-container-id-2 div.sk-label input.sk-toggleable__control:checked~label.sk-toggleable__label {background-color: #d4ebff;}#sk-container-id-2 input.sk-hidden--visually {border: 0;clip: rect(1px 1px 1px 1px);clip: rect(1px, 1px, 1px, 1px);height: 1px;margin: -1px;overflow: hidden;padding: 0;position: absolute;width: 1px;}#sk-container-id-2 div.sk-estimator {font-family: monospace;background-color: #f0f8ff;border: 1px dotted black;border-radius: 0.25em;box-sizing: border-box;margin-bottom: 0.5em;}#sk-container-id-2 div.sk-estimator:hover {background-color: #d4ebff;}#sk-container-id-2 div.sk-parallel-item::after {content: \"\";width: 100%;border-bottom: 1px solid gray;flex-grow: 1;}#sk-container-id-2 div.sk-label:hover label.sk-toggleable__label {background-color: #d4ebff;}#sk-container-id-2 div.sk-serial::before {content: \"\";position: absolute;border-left: 1px solid gray;box-sizing: border-box;top: 0;bottom: 0;left: 50%;z-index: 0;}#sk-container-id-2 div.sk-serial {display: flex;flex-direction: column;align-items: center;background-color: white;padding-right: 0.2em;padding-left: 0.2em;position: relative;}#sk-container-id-2 div.sk-item {position: relative;z-index: 1;}#sk-container-id-2 div.sk-parallel {display: flex;align-items: stretch;justify-content: center;background-color: white;position: relative;}#sk-container-id-2 div.sk-item::before, #sk-container-id-2 div.sk-parallel-item::before {content: \"\";position: absolute;border-left: 1px solid gray;box-sizing: border-box;top: 0;bottom: 0;left: 50%;z-index: -1;}#sk-container-id-2 div.sk-parallel-item {display: flex;flex-direction: column;z-index: 1;position: relative;background-color: white;}#sk-container-id-2 div.sk-parallel-item:first-child::after {align-self: flex-end;width: 50%;}#sk-container-id-2 div.sk-parallel-item:last-child::after {align-self: flex-start;width: 50%;}#sk-container-id-2 div.sk-parallel-item:only-child::after {width: 0;}#sk-container-id-2 div.sk-dashed-wrapped {border: 1px dashed gray;margin: 0 0.4em 0.5em 0.4em;box-sizing: border-box;padding-bottom: 0.4em;background-color: white;}#sk-container-id-2 div.sk-label label {font-family: monospace;font-weight: bold;display: inline-block;line-height: 1.2em;}#sk-container-id-2 div.sk-label-container {text-align: center;}#sk-container-id-2 div.sk-container {/* jupyter's `normalize.less` sets `[hidden] { display: none; }` but bootstrap.min.css set `[hidden] { display: none !important; }` so we also need the `!important` here to be able to override the default hidden behavior on the sphinx rendered scikit-learn.org. See: https://github.com/scikit-learn/scikit-learn/issues/21755 */display: inline-block !important;position: relative;}#sk-container-id-2 div.sk-text-repr-fallback {display: none;}</style><div id=\"sk-container-id-2\" class=\"sk-top-container\"><div class=\"sk-text-repr-fallback\"><pre>RandomForestClassifier(random_state=0)</pre><b>In a Jupyter environment, please rerun this cell to show the HTML representation or trust the notebook. <br />On GitHub, the HTML representation is unable to render, please try loading this page with nbviewer.org.</b></div><div class=\"sk-container\" hidden><div class=\"sk-item\"><div class=\"sk-estimator sk-toggleable\"><input class=\"sk-toggleable__control sk-hidden--visually\" id=\"sk-estimator-id-3\" type=\"checkbox\" checked><label for=\"sk-estimator-id-3\" class=\"sk-toggleable__label sk-toggleable__label-arrow\">RandomForestClassifier</label><div class=\"sk-toggleable__content\"><pre>RandomForestClassifier(random_state=0)</pre></div></div></div></div></div>"
      ],
      "text/plain": [
       "RandomForestClassifier(random_state=0)"
      ]
     },
     "execution_count": 23,
     "metadata": {},
     "output_type": "execute_result"
    }
   ],
   "source": [
    "clf.fit(X_train_df, y_train_df)"
   ]
  },
  {
   "cell_type": "code",
   "execution_count": 30,
   "id": "57dc8e53",
   "metadata": {},
   "outputs": [],
   "source": [
    "y_test_pred = clf.predict(X_test_df)\n",
    "y_train_pred = clf.predict(X_train_df)"
   ]
  },
  {
   "cell_type": "code",
   "execution_count": 31,
   "id": "e91a0c32",
   "metadata": {},
   "outputs": [
    {
     "name": "stdout",
     "output_type": "stream",
     "text": [
      "train_accuracy: 0.9050655407982799\n",
      "test_accuracy: 0.9038925010836585\n"
     ]
    }
   ],
   "source": [
    "# Evaluate the performance\n",
    "test_accuracy = accuracy_score(y_test_df, y_test_pred)\n",
    "train_accuracy = accuracy_score(y_train_df, y_train_pred)\n",
    "\n",
    "print(\"train_accuracy:\", train_accuracy)\n",
    "print(\"test_accuracy:\", test_accuracy)"
   ]
  },
  {
   "cell_type": "code",
   "execution_count": 33,
   "id": "383f1eec",
   "metadata": {},
   "outputs": [
    {
     "data": {
      "text/plain": [
       "0     13323\n",
       "1      5419\n",
       "2      4036\n",
       "3      3823\n",
       "4      3172\n",
       "5      2911\n",
       "6      2534\n",
       "7      2499\n",
       "8      1968\n",
       "9      1944\n",
       "10     1899\n",
       "11     1783\n",
       "12     1768\n",
       "13     1649\n",
       "14     1428\n",
       "15     1306\n",
       "16     1280\n",
       "17     1261\n",
       "19      793\n",
       "18      789\n",
       "20      603\n",
       "21      400\n",
       "22      337\n",
       "23      300\n",
       "25      230\n",
       "24      220\n",
       "Name: activity, dtype: int64"
      ]
     },
     "execution_count": 33,
     "metadata": {},
     "output_type": "execute_result"
    }
   ],
   "source": [
    "y_test_df.value_counts()"
   ]
  },
  {
   "cell_type": "code",
   "execution_count": 34,
   "id": "3cf6c94e",
   "metadata": {},
   "outputs": [],
   "source": [
    "from sklearn.metrics import classification_report\n"
   ]
  },
  {
   "cell_type": "code",
   "execution_count": 35,
   "id": "070d8dc6",
   "metadata": {},
   "outputs": [
    {
     "name": "stdout",
     "output_type": "stream",
     "text": [
      "              precision    recall  f1-score   support\n",
      "\n",
      "           0       0.71      1.00      0.83     13323\n",
      "           1       1.00      0.80      0.89      5419\n",
      "           2       1.00      0.93      0.96      4036\n",
      "           3       1.00      1.00      1.00      3823\n",
      "           4       1.00      0.87      0.93      3172\n",
      "           5       1.00      0.57      0.72      2911\n",
      "           6       1.00      0.57      0.72      2534\n",
      "           7       1.00      1.00      1.00      2499\n",
      "           8       1.00      1.00      1.00      1968\n",
      "           9       1.00      0.88      0.94      1944\n",
      "          10       1.00      0.97      0.99      1899\n",
      "          11       1.00      0.70      0.82      1783\n",
      "          12       1.00      1.00      1.00      1768\n",
      "          13       1.00      0.98      0.99      1649\n",
      "          14       1.00      1.00      1.00      1428\n",
      "          15       1.00      0.98      0.99      1306\n",
      "          16       1.00      1.00      1.00      1280\n",
      "          17       1.00      1.00      1.00      1261\n",
      "          18       1.00      1.00      1.00       789\n",
      "          19       1.00      0.36      0.52       793\n",
      "          20       1.00      1.00      1.00       603\n",
      "          21       1.00      0.98      0.99       400\n",
      "          22       1.00      1.00      1.00       337\n",
      "          23       0.99      1.00      0.99       300\n",
      "          24       1.00      0.99      0.99       220\n",
      "          25       1.00      1.00      1.00       230\n",
      "\n",
      "    accuracy                           0.90     57675\n",
      "   macro avg       0.99      0.91      0.93     57675\n",
      "weighted avg       0.93      0.90      0.90     57675\n",
      "\n"
     ]
    }
   ],
   "source": [
    "print(classification_report(y_test_df,y_test_pred))"
   ]
  },
  {
   "cell_type": "code",
   "execution_count": 36,
   "id": "02b2cd68",
   "metadata": {},
   "outputs": [
    {
     "data": {
      "text/plain": [
       "(57675,)"
      ]
     },
     "execution_count": 36,
     "metadata": {},
     "output_type": "execute_result"
    }
   ],
   "source": [
    "y_test_df.shape"
   ]
  },
  {
   "cell_type": "code",
   "execution_count": 37,
   "id": "5b6912e2",
   "metadata": {},
   "outputs": [
    {
     "data": {
      "text/plain": [
       "(230696,)"
      ]
     },
     "execution_count": 37,
     "metadata": {},
     "output_type": "execute_result"
    }
   ],
   "source": [
    "y_train_df.shape"
   ]
  },
  {
   "cell_type": "code",
   "execution_count": 9,
   "id": "9739ac6a",
   "metadata": {},
   "outputs": [
    {
     "name": "stdout",
     "output_type": "stream",
     "text": [
      "Training set shape: (230696, 28) (230696,)\n",
      "Testing set shape: (57675, 28) (57675,)\n"
     ]
    }
   ],
   "source": [
    "X_train_df, X_test_df, y_train_df, y_test_df = run_train_test_split(data_df, label_name='activity', test_ratio=0.2)"
   ]
  },
  {
   "cell_type": "code",
   "execution_count": 11,
   "id": "c48d7775",
   "metadata": {},
   "outputs": [
    {
     "data": {
      "text/html": [
       "<style>#sk-container-id-1 {color: black;background-color: white;}#sk-container-id-1 pre{padding: 0;}#sk-container-id-1 div.sk-toggleable {background-color: white;}#sk-container-id-1 label.sk-toggleable__label {cursor: pointer;display: block;width: 100%;margin-bottom: 0;padding: 0.3em;box-sizing: border-box;text-align: center;}#sk-container-id-1 label.sk-toggleable__label-arrow:before {content: \"▸\";float: left;margin-right: 0.25em;color: #696969;}#sk-container-id-1 label.sk-toggleable__label-arrow:hover:before {color: black;}#sk-container-id-1 div.sk-estimator:hover label.sk-toggleable__label-arrow:before {color: black;}#sk-container-id-1 div.sk-toggleable__content {max-height: 0;max-width: 0;overflow: hidden;text-align: left;background-color: #f0f8ff;}#sk-container-id-1 div.sk-toggleable__content pre {margin: 0.2em;color: black;border-radius: 0.25em;background-color: #f0f8ff;}#sk-container-id-1 input.sk-toggleable__control:checked~div.sk-toggleable__content {max-height: 200px;max-width: 100%;overflow: auto;}#sk-container-id-1 input.sk-toggleable__control:checked~label.sk-toggleable__label-arrow:before {content: \"▾\";}#sk-container-id-1 div.sk-estimator input.sk-toggleable__control:checked~label.sk-toggleable__label {background-color: #d4ebff;}#sk-container-id-1 div.sk-label input.sk-toggleable__control:checked~label.sk-toggleable__label {background-color: #d4ebff;}#sk-container-id-1 input.sk-hidden--visually {border: 0;clip: rect(1px 1px 1px 1px);clip: rect(1px, 1px, 1px, 1px);height: 1px;margin: -1px;overflow: hidden;padding: 0;position: absolute;width: 1px;}#sk-container-id-1 div.sk-estimator {font-family: monospace;background-color: #f0f8ff;border: 1px dotted black;border-radius: 0.25em;box-sizing: border-box;margin-bottom: 0.5em;}#sk-container-id-1 div.sk-estimator:hover {background-color: #d4ebff;}#sk-container-id-1 div.sk-parallel-item::after {content: \"\";width: 100%;border-bottom: 1px solid gray;flex-grow: 1;}#sk-container-id-1 div.sk-label:hover label.sk-toggleable__label {background-color: #d4ebff;}#sk-container-id-1 div.sk-serial::before {content: \"\";position: absolute;border-left: 1px solid gray;box-sizing: border-box;top: 0;bottom: 0;left: 50%;z-index: 0;}#sk-container-id-1 div.sk-serial {display: flex;flex-direction: column;align-items: center;background-color: white;padding-right: 0.2em;padding-left: 0.2em;position: relative;}#sk-container-id-1 div.sk-item {position: relative;z-index: 1;}#sk-container-id-1 div.sk-parallel {display: flex;align-items: stretch;justify-content: center;background-color: white;position: relative;}#sk-container-id-1 div.sk-item::before, #sk-container-id-1 div.sk-parallel-item::before {content: \"\";position: absolute;border-left: 1px solid gray;box-sizing: border-box;top: 0;bottom: 0;left: 50%;z-index: -1;}#sk-container-id-1 div.sk-parallel-item {display: flex;flex-direction: column;z-index: 1;position: relative;background-color: white;}#sk-container-id-1 div.sk-parallel-item:first-child::after {align-self: flex-end;width: 50%;}#sk-container-id-1 div.sk-parallel-item:last-child::after {align-self: flex-start;width: 50%;}#sk-container-id-1 div.sk-parallel-item:only-child::after {width: 0;}#sk-container-id-1 div.sk-dashed-wrapped {border: 1px dashed gray;margin: 0 0.4em 0.5em 0.4em;box-sizing: border-box;padding-bottom: 0.4em;background-color: white;}#sk-container-id-1 div.sk-label label {font-family: monospace;font-weight: bold;display: inline-block;line-height: 1.2em;}#sk-container-id-1 div.sk-label-container {text-align: center;}#sk-container-id-1 div.sk-container {/* jupyter's `normalize.less` sets `[hidden] { display: none; }` but bootstrap.min.css set `[hidden] { display: none !important; }` so we also need the `!important` here to be able to override the default hidden behavior on the sphinx rendered scikit-learn.org. See: https://github.com/scikit-learn/scikit-learn/issues/21755 */display: inline-block !important;position: relative;}#sk-container-id-1 div.sk-text-repr-fallback {display: none;}</style><div id=\"sk-container-id-1\" class=\"sk-top-container\"><div class=\"sk-text-repr-fallback\"><pre>RandomForestClassifier(random_state=0)</pre><b>In a Jupyter environment, please rerun this cell to show the HTML representation or trust the notebook. <br />On GitHub, the HTML representation is unable to render, please try loading this page with nbviewer.org.</b></div><div class=\"sk-container\" hidden><div class=\"sk-item\"><div class=\"sk-estimator sk-toggleable\"><input class=\"sk-toggleable__control sk-hidden--visually\" id=\"sk-estimator-id-1\" type=\"checkbox\" checked><label for=\"sk-estimator-id-1\" class=\"sk-toggleable__label sk-toggleable__label-arrow\">RandomForestClassifier</label><div class=\"sk-toggleable__content\"><pre>RandomForestClassifier(random_state=0)</pre></div></div></div></div></div>"
      ],
      "text/plain": [
       "RandomForestClassifier(random_state=0)"
      ]
     },
     "execution_count": 11,
     "metadata": {},
     "output_type": "execute_result"
    }
   ],
   "source": [
    "clf = RandomForestClassifier(random_state=0)\n",
    "clf.fit(X_train_df.values, y_train_df.values)"
   ]
  },
  {
   "cell_type": "code",
   "execution_count": 13,
   "id": "83ccd714",
   "metadata": {},
   "outputs": [],
   "source": [
    "# save the model to disk\n",
    "filename = 'CHECKPOINTS/model_v4.sav'\n",
    "pickle.dump(clf, open(filename, 'wb'))"
   ]
  },
  {
   "cell_type": "code",
   "execution_count": null,
   "id": "4df14df5",
   "metadata": {},
   "outputs": [],
   "source": []
  },
  {
   "cell_type": "markdown",
   "id": "4c4ac331",
   "metadata": {},
   "source": [
    "## Model Explainability"
   ]
  },
  {
   "cell_type": "code",
   "execution_count": 15,
   "id": "5389a06a",
   "metadata": {},
   "outputs": [],
   "source": [
    "filename = 'CHECKPOINTS/model_v4.sav'\n",
    "loaded_model = pickle.load(open(filename, 'rb'))"
   ]
  },
  {
   "cell_type": "code",
   "execution_count": 18,
   "id": "2ed73afd",
   "metadata": {},
   "outputs": [],
   "source": [
    "explainer = shap.Explainer(loaded_model, X_train_df.values,\n",
    "                           feature_names=X_train_df.columns\n",
    "                          )\n"
   ]
  },
  {
   "cell_type": "code",
   "execution_count": 20,
   "id": "034a7ffb",
   "metadata": {},
   "outputs": [
    {
     "name": "stderr",
     "output_type": "stream",
     "text": [
      "100%|===================| 259/260 [00:16<00:00]        "
     ]
    },
    {
     "ename": "ValueError",
     "evalue": "The beeswarm plot does not support plotting explanations with instances that have more than one dimension!",
     "output_type": "error",
     "traceback": [
      "\u001b[0;31m---------------------------------------------------------------------------\u001b[0m",
      "\u001b[0;31mValueError\u001b[0m                                Traceback (most recent call last)",
      "Cell \u001b[0;32mIn[20], line 2\u001b[0m\n\u001b[1;32m      1\u001b[0m shap_values \u001b[38;5;241m=\u001b[39m explainer(X_test_df\u001b[38;5;241m.\u001b[39mhead(\u001b[38;5;241m10\u001b[39m))\n\u001b[0;32m----> 2\u001b[0m \u001b[43mshap\u001b[49m\u001b[38;5;241;43m.\u001b[39;49m\u001b[43mplots\u001b[49m\u001b[38;5;241;43m.\u001b[39;49m\u001b[43mbeeswarm\u001b[49m\u001b[43m(\u001b[49m\u001b[43mshap_values\u001b[49m\u001b[43m)\u001b[49m\n",
      "File \u001b[0;32m~/virtualenvs/cbd_env/lib/python3.10/site-packages/shap/plots/_beeswarm.py:54\u001b[0m, in \u001b[0;36mbeeswarm\u001b[0;34m(shap_values, max_display, order, clustering, cluster_threshold, color, axis_color, alpha, show, log_scale, color_bar, plot_size, color_bar_label)\u001b[0m\n\u001b[1;32m     49\u001b[0m     \u001b[38;5;28;01mraise\u001b[39;00m \u001b[38;5;167;01mValueError\u001b[39;00m(\n\u001b[1;32m     50\u001b[0m         \u001b[38;5;124m\"\u001b[39m\u001b[38;5;124mThe beeswarm plot does not support plotting a single instance, please pass \u001b[39m\u001b[38;5;124m\"\u001b[39m\n\u001b[1;32m     51\u001b[0m         \u001b[38;5;124m\"\u001b[39m\u001b[38;5;124man explanation matrix with many instances!\u001b[39m\u001b[38;5;124m\"\u001b[39m\n\u001b[1;32m     52\u001b[0m     )\n\u001b[1;32m     53\u001b[0m \u001b[38;5;28;01melif\u001b[39;00m \u001b[38;5;28mlen\u001b[39m(shap_values\u001b[38;5;241m.\u001b[39mshape) \u001b[38;5;241m>\u001b[39m \u001b[38;5;241m2\u001b[39m:\n\u001b[0;32m---> 54\u001b[0m     \u001b[38;5;28;01mraise\u001b[39;00m \u001b[38;5;167;01mValueError\u001b[39;00m(\n\u001b[1;32m     55\u001b[0m         \u001b[38;5;124m\"\u001b[39m\u001b[38;5;124mThe beeswarm plot does not support plotting explanations with instances that have more \u001b[39m\u001b[38;5;124m\"\u001b[39m\n\u001b[1;32m     56\u001b[0m         \u001b[38;5;124m\"\u001b[39m\u001b[38;5;124mthan one dimension!\u001b[39m\u001b[38;5;124m\"\u001b[39m\n\u001b[1;32m     57\u001b[0m     )\n\u001b[1;32m     58\u001b[0m shap_exp \u001b[38;5;241m=\u001b[39m shap_values\n\u001b[1;32m     59\u001b[0m \u001b[38;5;66;03m# we make a copy here, because later there are places that might modify this array\u001b[39;00m\n",
      "\u001b[0;31mValueError\u001b[0m: The beeswarm plot does not support plotting explanations with instances that have more than one dimension!"
     ]
    }
   ],
   "source": [
    "shap_values = explainer(X_test_df.head(10))\n",
    "shap.plots.beeswarm(shap_values)"
   ]
  },
  {
   "cell_type": "code",
   "execution_count": 21,
   "id": "861b8c10",
   "metadata": {},
   "outputs": [
    {
     "data": {
      "text/plain": [
       ".values =\n",
       "array([[[-3.49188085e-02, -1.94653944e-02, -4.47559760e-02, ...,\n",
       "         -1.22452021e-03, -2.08409089e-03, -1.93317987e-03],\n",
       "        [-1.05100821e-02, -4.30986153e-03,  1.96734820e-03, ...,\n",
       "         -4.91494905e-04,  4.22004874e-04, -8.62990106e-04],\n",
       "        [ 1.50145206e-04, -2.89486127e-03,  5.33947131e-04, ...,\n",
       "          4.71583917e-05,  3.58141239e-04, -1.77184060e-03],\n",
       "        ...,\n",
       "        [-1.70236156e-03, -1.91361385e-03,  2.08143345e-03, ...,\n",
       "          3.26807359e-04, -1.16342001e-04, -5.27487747e-04],\n",
       "        [-3.50866694e-03, -3.19121282e-03, -1.58206033e-03, ...,\n",
       "         -1.96377598e-03,  2.09725833e-04, -3.13961058e-05],\n",
       "        [ 8.50195280e-04,  2.57143959e-04,  5.22867863e-04, ...,\n",
       "          1.20945166e-04,  2.73809499e-06, -3.33547631e-04]],\n",
       "\n",
       "       [[-3.75739929e-03, -2.68670310e-02, -4.71850264e-02, ...,\n",
       "         -1.57880870e-03, -6.39798113e-03, -3.06127351e-03],\n",
       "        [-2.16774096e-02,  1.67418197e-03,  2.81181702e-03, ...,\n",
       "          6.98427958e-04,  1.20537445e-03, -6.36349209e-04],\n",
       "        [-9.63049572e-03, -2.06963181e-03,  8.56015409e-05, ...,\n",
       "         -1.43272979e-04, -1.12080899e-03, -1.35214287e-03],\n",
       "        ...,\n",
       "        [-1.35850657e-02, -6.19897739e-04,  1.89802470e-03, ...,\n",
       "          8.99161678e-04, -2.39665948e-03, -6.16262635e-04],\n",
       "        [-1.73846578e-03,  2.08191279e-05,  1.00447647e-03, ...,\n",
       "          1.21810275e-04, -5.88098860e-04, -1.06593616e-03],\n",
       "        [-4.72843488e-04, -1.66554835e-04,  6.16997501e-04, ...,\n",
       "          4.03607506e-05,  9.24602698e-06, -3.33730168e-04]],\n",
       "\n",
       "       [[ 6.57855278e-02, -1.40448764e-02, -6.05416426e-02, ...,\n",
       "         -7.54517975e-04,  2.10510430e-03, -4.07856791e-03],\n",
       "        [-1.18881924e-03,  6.63660197e-04,  9.23074670e-04, ...,\n",
       "          1.76098898e-04,  9.92053227e-04, -9.03290054e-04],\n",
       "        [ 1.80939083e-03, -2.66177503e-03, -1.45249565e-04, ...,\n",
       "          2.37888225e-04,  1.89392480e-04, -1.82948414e-03],\n",
       "        ...,\n",
       "        [ 1.76262024e-03, -9.83561138e-05,  2.13703473e-03, ...,\n",
       "          1.59128096e-04, -9.43903330e-05, -7.59884565e-04],\n",
       "        [ 1.15982881e-03, -4.80121445e-05,  1.99043431e-03, ...,\n",
       "          1.27943721e-04,  5.79990299e-04, -3.24999951e-05],\n",
       "        [ 6.36821162e-04,  1.41392501e-04,  9.45187582e-04, ...,\n",
       "          1.99603173e-05,  2.53968252e-05, -3.38333333e-04]],\n",
       "\n",
       "       ...,\n",
       "\n",
       "       [[-1.48876285e-02, -4.65037951e-02, -5.29753346e-02, ...,\n",
       "          1.47096677e-03, -3.51544389e-03, -1.63961944e-03],\n",
       "        [ 3.70720285e-03, -4.08149169e-03, -1.10948994e-02, ...,\n",
       "         -3.23973120e-04,  5.00442295e-04, -9.53373032e-04],\n",
       "        [-1.05577613e-04,  1.02795977e-03, -3.87801422e-03, ...,\n",
       "          1.69717184e-04,  4.22935304e-04, -2.29035357e-03],\n",
       "        ...,\n",
       "        [-2.75563216e-03,  3.09347971e-03, -1.45790545e-03, ...,\n",
       "         -1.94024309e-04,  4.01689522e-04,  2.17297985e-05],\n",
       "        [ 2.55660637e-03, -2.26242585e-04, -1.10247558e-04, ...,\n",
       "          9.98593071e-05,  1.44629815e-04, -1.80413965e-03],\n",
       "        [ 6.22946343e-04,  9.38059197e-05, -3.69592662e-04, ...,\n",
       "          1.26808746e-04, -2.63406045e-05, -3.74166674e-04]],\n",
       "\n",
       "       [[-9.91957185e-02,  1.79957539e-01, -5.84855889e-03, ...,\n",
       "         -6.15032289e-04, -7.64325400e-04, -2.37144845e-03],\n",
       "        [-2.57041046e-03,  2.39465325e-02,  1.46210496e-03, ...,\n",
       "          1.33994898e-04,  6.52709242e-04, -7.11626992e-04],\n",
       "        [-9.99704027e-03,  2.73407380e-02, -1.63596886e-03, ...,\n",
       "         -1.28307944e-03,  5.47525254e-04, -2.20323417e-03],\n",
       "        ...,\n",
       "        [ 5.04100074e-05,  1.11006109e-02, -1.33164662e-03, ...,\n",
       "          4.25974303e-04, -1.17997840e-04, -7.08928578e-04],\n",
       "        [ 6.59612741e-04,  8.93728747e-03, -1.73973945e-03, ...,\n",
       "          3.18785752e-04,  2.61699138e-04, -1.61658733e-03],\n",
       "        [ 3.51566079e-04,  3.17450686e-03,  8.71525502e-04, ...,\n",
       "          7.37757606e-05, -1.36507943e-05, -3.83333353e-04]],\n",
       "\n",
       "       [[-6.74421764e-02, -4.73082451e-03, -9.73367838e-03, ...,\n",
       "         -9.87575231e-03,  1.66451728e-03, -2.74184133e-03],\n",
       "        [-1.51840514e-02, -1.12030535e-03,  3.06642848e-03, ...,\n",
       "          1.74154522e-03,  1.09666499e-03, -7.71765887e-04],\n",
       "        [ 1.01956542e-03, -9.37998815e-03, -6.22757641e-04, ...,\n",
       "          7.46109916e-04,  8.87876072e-04, -1.90489684e-03],\n",
       "        ...,\n",
       "        [-1.64846464e-02, -1.05490449e-02,  6.31235391e-04, ...,\n",
       "          4.09401388e-03,  2.23026279e-04, -7.51865099e-04],\n",
       "        [-7.39835292e-03, -2.30715497e-03, -1.05487424e-03, ...,\n",
       "          3.29703492e-04, -2.12395485e-04, -1.52720241e-03],\n",
       "        [ 1.93307255e-03, -2.42265509e-04,  8.32675298e-04, ...,\n",
       "          1.82766957e-04,  1.53968210e-05, -3.65873028e-04]]])\n",
       "\n",
       ".base_values =\n",
       "array([[0.18884112, 0.06850777, 0.07237104, 0.0802    , 0.04090936,\n",
       "        0.05858   , 0.03715184, 0.0402    , 0.03      , 0.02146943,\n",
       "        0.06982393, 0.05391014, 0.04      , 0.03017264, 0.0483    ,\n",
       "        0.02030976, 0.0101    , 0.0404    , 0.        , 0.00341731,\n",
       "        0.00509214, 0.01004352, 0.0098    , 0.        , 0.0004    ,\n",
       "        0.02      ],\n",
       "       [0.18884112, 0.06850777, 0.07237104, 0.0802    , 0.04090936,\n",
       "        0.05858   , 0.03715184, 0.0402    , 0.03      , 0.02146943,\n",
       "        0.06982393, 0.05391014, 0.04      , 0.03017264, 0.0483    ,\n",
       "        0.02030976, 0.0101    , 0.0404    , 0.        , 0.00341731,\n",
       "        0.00509214, 0.01004352, 0.0098    , 0.        , 0.0004    ,\n",
       "        0.02      ],\n",
       "       [0.18884112, 0.06850777, 0.07237104, 0.0802    , 0.04090936,\n",
       "        0.05858   , 0.03715184, 0.0402    , 0.03      , 0.02146943,\n",
       "        0.06982393, 0.05391014, 0.04      , 0.03017264, 0.0483    ,\n",
       "        0.02030976, 0.0101    , 0.0404    , 0.        , 0.00341731,\n",
       "        0.00509214, 0.01004352, 0.0098    , 0.        , 0.0004    ,\n",
       "        0.02      ],\n",
       "       [0.18884112, 0.06850777, 0.07237104, 0.0802    , 0.04090936,\n",
       "        0.05858   , 0.03715184, 0.0402    , 0.03      , 0.02146943,\n",
       "        0.06982393, 0.05391014, 0.04      , 0.03017264, 0.0483    ,\n",
       "        0.02030976, 0.0101    , 0.0404    , 0.        , 0.00341731,\n",
       "        0.00509214, 0.01004352, 0.0098    , 0.        , 0.0004    ,\n",
       "        0.02      ],\n",
       "       [0.18884112, 0.06850777, 0.07237104, 0.0802    , 0.04090936,\n",
       "        0.05858   , 0.03715184, 0.0402    , 0.03      , 0.02146943,\n",
       "        0.06982393, 0.05391014, 0.04      , 0.03017264, 0.0483    ,\n",
       "        0.02030976, 0.0101    , 0.0404    , 0.        , 0.00341731,\n",
       "        0.00509214, 0.01004352, 0.0098    , 0.        , 0.0004    ,\n",
       "        0.02      ],\n",
       "       [0.18884112, 0.06850777, 0.07237104, 0.0802    , 0.04090936,\n",
       "        0.05858   , 0.03715184, 0.0402    , 0.03      , 0.02146943,\n",
       "        0.06982393, 0.05391014, 0.04      , 0.03017264, 0.0483    ,\n",
       "        0.02030976, 0.0101    , 0.0404    , 0.        , 0.00341731,\n",
       "        0.00509214, 0.01004352, 0.0098    , 0.        , 0.0004    ,\n",
       "        0.02      ],\n",
       "       [0.18884112, 0.06850777, 0.07237104, 0.0802    , 0.04090936,\n",
       "        0.05858   , 0.03715184, 0.0402    , 0.03      , 0.02146943,\n",
       "        0.06982393, 0.05391014, 0.04      , 0.03017264, 0.0483    ,\n",
       "        0.02030976, 0.0101    , 0.0404    , 0.        , 0.00341731,\n",
       "        0.00509214, 0.01004352, 0.0098    , 0.        , 0.0004    ,\n",
       "        0.02      ],\n",
       "       [0.18884112, 0.06850777, 0.07237104, 0.0802    , 0.04090936,\n",
       "        0.05858   , 0.03715184, 0.0402    , 0.03      , 0.02146943,\n",
       "        0.06982393, 0.05391014, 0.04      , 0.03017264, 0.0483    ,\n",
       "        0.02030976, 0.0101    , 0.0404    , 0.        , 0.00341731,\n",
       "        0.00509214, 0.01004352, 0.0098    , 0.        , 0.0004    ,\n",
       "        0.02      ],\n",
       "       [0.18884112, 0.06850777, 0.07237104, 0.0802    , 0.04090936,\n",
       "        0.05858   , 0.03715184, 0.0402    , 0.03      , 0.02146943,\n",
       "        0.06982393, 0.05391014, 0.04      , 0.03017264, 0.0483    ,\n",
       "        0.02030976, 0.0101    , 0.0404    , 0.        , 0.00341731,\n",
       "        0.00509214, 0.01004352, 0.0098    , 0.        , 0.0004    ,\n",
       "        0.02      ],\n",
       "       [0.18884112, 0.06850777, 0.07237104, 0.0802    , 0.04090936,\n",
       "        0.05858   , 0.03715184, 0.0402    , 0.03      , 0.02146943,\n",
       "        0.06982393, 0.05391014, 0.04      , 0.03017264, 0.0483    ,\n",
       "        0.02030976, 0.0101    , 0.0404    , 0.        , 0.00341731,\n",
       "        0.00509214, 0.01004352, 0.0098    , 0.        , 0.0004    ,\n",
       "        0.02      ]])\n",
       "\n",
       ".data =\n",
       "array([[ 9.80553040e+02,  1.22864510e+00, -3.71228040e-01,\n",
       "        -9.65192900e+00,  1.25715230e+00, -3.16210240e-01,\n",
       "        -9.72059500e+00,  4.40122100e-03,  3.00745100e-03,\n",
       "        -4.69644040e-03, -4.15355700e-02, -1.03234650e-02,\n",
       "         6.94069200e-02,  4.87537770e+00,  2.52617200e+00,\n",
       "         5.38465920e+01,  8.49633322e+01,  1.59728360e+00,\n",
       "        -1.72983721e+02,  1.49000000e+02,  5.56044240e+03,\n",
       "         3.27670000e+04,  6.10000000e+01, -7.49811050e-01,\n",
       "        -6.58078200e-01, -3.02778020e-02,  6.16420020e-02,\n",
       "         5.23598800e-01],\n",
       "       [ 9.90791200e+02,  9.61600400e+00,  1.73399420e+00,\n",
       "         1.82021490e+00,  9.53100700e+00,  1.62940340e+00,\n",
       "         1.63565060e+00,  2.70363350e-02, -2.90359900e-01,\n",
       "        -1.04947760e-03,  6.95004100e-01, -1.31487090e-01,\n",
       "         1.98573190e-01, -1.22696720e+01, -2.61118550e+01,\n",
       "         6.90326700e+00,  1.53177989e+02,  4.35844936e-01,\n",
       "        -4.94637075e+01,  1.86800000e+03,  2.08544750e+03,\n",
       "         3.27670000e+04,  4.20000000e+01, -6.11075300e-01,\n",
       "        -2.02789140e-01, -7.47516160e-01,  1.63349780e-01,\n",
       "         5.23598800e-01],\n",
       "       [ 9.90716300e+02,  8.74182100e+00,  5.53249540e-01,\n",
       "        -4.94332080e+00,  8.53759900e+00,  5.91212700e-01,\n",
       "        -4.78856000e+00,  3.14761000e-03, -6.38282530e-03,\n",
       "        -4.46625050e-05,  2.04696550e-01, -3.04663830e-02,\n",
       "        -1.22125840e-01, -3.21692350e+01, -4.75802080e+01,\n",
       "         4.58801100e+01,  1.51555313e+02, -2.97837592e+00,\n",
       "        -1.19465022e+02,  1.55000000e+02,  1.10452940e+04,\n",
       "         3.27670000e+04,  3.90000000e+01, -8.40928440e-01,\n",
       "        -2.18436570e-01, -4.86047200e-01,  9.42493500e-02,\n",
       "         5.23598800e-01],\n",
       "       [ 9.75444760e+02,  6.00670900e+00,  2.37106950e-01,\n",
       "        -7.82213400e+00,  5.50362540e+00,  1.37766550e-01,\n",
       "        -8.11551100e+00, -3.19491650e-03, -1.97721700e-03,\n",
       "         5.37889200e-03,  5.40181760e-01,  1.03545666e-01,\n",
       "         2.74012740e-01, -4.24337600e+01,  7.51308440e-01,\n",
       "         2.63282970e+01, -8.44503030e+01, -1.28456360e+00,\n",
       "        -1.41071192e+02,  1.64710000e+04,  5.88028700e+03,\n",
       "         3.27670000e+04,  4.60000000e+01,  6.76279840e-01,\n",
       "        -6.73384550e-01,  2.09115030e-01,  2.13236390e-01,\n",
       "         5.23598800e-01],\n",
       "       [ 9.68447800e+02,  7.82931900e+00,  1.26217530e+00,\n",
       "         6.31327150e+00,  7.56349850e+00,  1.22717640e+00,\n",
       "         6.12028930e+00, -1.23259090e-03,  1.35348460e-03,\n",
       "         1.55060810e-03,  2.84057600e-01,  3.65798030e-02,\n",
       "         1.95047410e-01, -1.08258820e+00, -2.38380740e+01,\n",
       "        -6.87753700e+00, -1.72000474e+02, -7.13221373e+00,\n",
       "        -5.12360869e+01,  5.40400000e+03,  7.04480900e+03,\n",
       "         3.27670000e+04,  3.70000000e+01,  4.32861700e-01,\n",
       "        -1.68346670e-02,  8.92844740e-01,  1.23189450e-01,\n",
       "         5.23598800e-01],\n",
       "       [ 9.86929900e+02,  2.88360360e+00, -9.72617400e+00,\n",
       "         5.05349160e-01,  2.37887360e+00, -9.49412700e+00,\n",
       "         6.10647100e-01, -7.95199000e-02, -4.81741340e-01,\n",
       "        -7.85430900e-02, -5.15227200e-01,  1.34122400e-01,\n",
       "        -5.16200140e-02,  2.66024100e+01,  5.28964500e+01,\n",
       "        -1.53704605e+01,  2.47659449e+01,  7.44460977e+01,\n",
       "        -1.48084266e+02,  3.28300000e+03,  5.17455960e+03,\n",
       "         3.27670000e+04,  3.80000000e+01, -3.28153100e-01,\n",
       "        -6.10810800e-01,  5.38272300e-01,  4.79049680e-01,\n",
       "         5.23598800e-01],\n",
       "       [ 9.84527950e+02,  1.20229980e+00, -1.01788330e+00,\n",
       "        -9.53936300e+00,  1.25708390e+00, -1.08573370e+00,\n",
       "        -9.66495500e+00,  5.14322240e-03,  1.53320140e-04,\n",
       "         1.20719660e-03, -4.62307000e-02,  6.16897160e-02,\n",
       "         1.22232410e-01, -1.77916200e+01, -2.35136400e+01,\n",
       "         5.26977920e+01, -1.58679050e+02,  6.07008815e+00,\n",
       "        -1.72832514e+02,  5.88500000e+03,  7.88105270e+03,\n",
       "         3.27670000e+04,  3.30000000e+01, -9.86397200e-01,\n",
       "         1.46647270e-01, -5.36278700e-02,  5.13734780e-02,\n",
       "         5.23598800e-01],\n",
       "       [ 9.65292970e+02, -1.04901860e+00, -9.43398200e+00,\n",
       "         1.28373050e+00, -1.13208800e+00, -9.61031500e+00,\n",
       "         1.59079330e+00,  1.38694630e-02, -2.97152720e-02,\n",
       "         2.25895720e-02,  7.63994460e-02,  5.94172100e-01,\n",
       "         9.54868800e-01,  1.92909010e+01,  2.61705340e+01,\n",
       "        -1.89773560e+00, -1.61686260e+02,  7.98067238e+01,\n",
       "         4.02027974e+01,  4.54700000e+03,  7.32161200e+03,\n",
       "         3.27670000e+04,  3.30000000e+01, -3.70404330e-01,\n",
       "        -5.61407000e-01,  6.63094040e-01,  3.28525570e-01,\n",
       "         5.23598800e-01],\n",
       "       [ 9.84763550e+02,  8.64602100e+00, -4.68465850e+00,\n",
       "        -1.05380870e+00,  9.16597000e+00, -3.22056910e+00,\n",
       "        -1.33540340e+00, -6.80770770e-03, -6.98728860e-03,\n",
       "         7.45072700e-03,  1.14418015e-01, -7.48731000e-02,\n",
       "         3.96790200e-03, -1.96765860e+01, -7.01711270e+00,\n",
       "         4.44005300e+00,  1.66521200e+02,  2.54683752e+01,\n",
       "        -9.49231482e+01,  1.27000000e+02,  4.85177930e+03,\n",
       "         3.27670000e+04,  3.30000000e+01, -7.30123160e-01,\n",
       "         4.73875740e-02, -6.33871800e-01,  2.50761060e-01,\n",
       "         5.23598800e-01],\n",
       "       [ 9.85971860e+02,  9.03401400e+00,  1.08733890e+00,\n",
       "         4.65591800e+00,  8.68792600e+00,  1.00811120e+00,\n",
       "         4.43554160e+00,  2.51417050e-04, -1.90012860e-03,\n",
       "        -1.74943310e-03,  3.39262900e-01,  9.75243300e-02,\n",
       "         2.24465340e-01, -2.07796440e+01, -3.67583000e+01,\n",
       "         1.56010930e+01,  1.46455566e+02, -6.21883857e+00,\n",
       "        -6.28607991e+01,  5.70000000e+01,  1.99562890e+03,\n",
       "         3.27670000e+04,  3.10000000e+01, -4.80319650e-01,\n",
       "        -1.65776400e-01, -8.39175100e-01,  1.93897770e-01,\n",
       "         5.23598800e-01]])"
      ]
     },
     "execution_count": 21,
     "metadata": {},
     "output_type": "execute_result"
    }
   ],
   "source": [
    "shap_values"
   ]
  },
  {
   "cell_type": "code",
   "execution_count": null,
   "id": "b6761510",
   "metadata": {},
   "outputs": [],
   "source": []
  }
 ],
 "metadata": {
  "kernelspec": {
   "display_name": "cbd_env",
   "language": "python",
   "name": "cbd_env"
  },
  "language_info": {
   "codemirror_mode": {
    "name": "ipython",
    "version": 3
   },
   "file_extension": ".py",
   "mimetype": "text/x-python",
   "name": "python",
   "nbconvert_exporter": "python",
   "pygments_lexer": "ipython3",
   "version": "3.10.12"
  }
 },
 "nbformat": 4,
 "nbformat_minor": 5
}
